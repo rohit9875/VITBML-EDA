{
  "nbformat": 4,
  "nbformat_minor": 0,
  "metadata": {
    "colab": {
      "name": "Copy of Welcome To Colaboratory",
      "provenance": [],
      "collapsed_sections": [],
      "toc_visible": true,
      "include_colab_link": true
    },
    "kernelspec": {
      "display_name": "Python 3",
      "name": "python3"
    }
  },
  "cells": [
    {
      "cell_type": "markdown",
      "metadata": {
        "id": "view-in-github",
        "colab_type": "text"
      },
      "source": [
        "<a href=\"https://colab.research.google.com/github/rohit9875/VITBML-EDA/blob/master/Copy_of_Welcome_To_Colaboratory.ipynb\" target=\"_parent\"><img src=\"https://colab.research.google.com/assets/colab-badge.svg\" alt=\"Open In Colab\"/></a>"
      ]
    },
    {
      "cell_type": "code",
      "metadata": {
        "id": "fNt-nvLdzOkK",
        "colab_type": "code",
        "outputId": "bada2fec-9871-4063-ac00-6b62fb53eefc",
        "colab": {
          "base_uri": "https://localhost:8080/",
          "height": 255
        }
      },
      "source": [
        "import pandas as pd\n",
        "import numpy as np\n",
        "import matplotlib.pyplot as plt\n",
        "r=pd.read_csv(\"fifa19.zip\")\n",
        "print(r)"
      ],
      "execution_count": 0,
      "outputs": [
        {
          "output_type": "stream",
          "text": [
            "       Unnamed: 0      ID  ... GKReflexes  Release Clause\n",
            "0               0  158023  ...        8.0         €226.5M\n",
            "1               1   20801  ...       11.0         €127.1M\n",
            "2               2  190871  ...       11.0         €228.1M\n",
            "3               3  193080  ...       94.0         €138.6M\n",
            "4               4  192985  ...       13.0         €196.4M\n",
            "...           ...     ...  ...        ...             ...\n",
            "18202       18202  238813  ...        9.0           €143K\n",
            "18203       18203  243165  ...       12.0           €113K\n",
            "18204       18204  241638  ...       13.0           €165K\n",
            "18205       18205  246268  ...        9.0           €143K\n",
            "18206       18206  246269  ...        9.0           €165K\n",
            "\n",
            "[18207 rows x 89 columns]\n"
          ],
          "name": "stdout"
        }
      ]
    },
    {
      "cell_type": "markdown",
      "metadata": {
        "id": "JFz3jzi3pkHH",
        "colab_type": "text"
      },
      "source": [
        "row number\n",
        "IDunique id for every player\n",
        "Ageage\n",
        "Photourl to the player's photo\n",
        "Nationalitynationality\n",
        "Flagurl to players's country flag\n",
        "Overalloverall rating\n",
        "Potentialpotential rating\n",
        "Clubcurrent club\n",
        "Club Logourl to club logo\n",
        "Valuecurrent market value\n",
        "Wagecurrent wage\n",
        "Specialspecial\n",
        "Preferred Footleft/right\n",
        "International Reputationrating on scale of 5\n",
        "Weak Footrating on scale of 5\n",
        "Skill Movesrating on scale of 5\n",
        "Work Rateattack work rate/defence work rate\n",
        "Body Typebody type of player\n",
        "Real Facetrue or false\n",
        "Positionposition on the pitch\n",
        "Jersey Numberjersey number\n",
        "Joinedjoined date\n",
        "Loaned Fromclub name if applicable\n",
        "Contract Valid Untilcontract end date\n",
        "Heightheight of the player\n",
        "Weightweight of the player\n",
        "LSrating on scale of 100\n",
        "STrating on scale of 100\n",
        "RSrating on scale of 100\n",
        "LWrating on scale of 100\n",
        "LFrating on scale of 100\n",
        "CFrating on scale of 100\n",
        "RFrating on scale of 100\n",
        "RWrating on scale of 100\n",
        "LAMrating on scale of 100\n",
        "CAMrating on scale of 100\n",
        "RAMrating on scale of 100\n",
        "LMrating on scale of 100\n",
        "LCMrating on scale of 100\n",
        "CMrating on scale of 100\n",
        "RCMrating on scale of 100\n",
        "RMrating on scale of 100\n",
        "LWBrating on scale of 100\n",
        "LDMrating on scale of 100\n",
        "CDMrating on scale of 100\n",
        "RDMrating on scale of 100\n",
        "RWBrating on scale of 100\n",
        "LBrating on scale of 100\n",
        "LCBrating on scale of 100\n",
        "CBrating on scale of 100\n",
        "RCBrating on scale of 100\n",
        "RBrating on scale of 100\n",
        "Crossingrating on scale of 100\n",
        "Finishingrating on scale of 100\n",
        "HeadingAccuracyrating on scale of 100\n",
        "ShortPassingrating on scale of 100\n",
        "Volleysrating on scale of 100\n",
        "Dribblingrating on scale of 100\n",
        "Curverating on scale of 100\n",
        "FKAccuracyrating on scale of 100\n",
        "LongPassingrating on scale of 100\n",
        "BallControlrating on scale of 100\n",
        "Accelerationrating on scale of 100\n",
        "SprintSpeedrating on scale of 100\n",
        "Agilityrating on scale of 100\n",
        "Reactionsrating on scale of 100\n",
        "Balancerating on scale of 100\n",
        "ShotPowerrating on scale of 100\n",
        "Jumpingrating on scale of 100\n",
        "Staminarating on scale of 100\n",
        "Strengthrating on scale of 100\n",
        "LongShotsrating on scale of 100\n",
        "Aggressionrating on scale of 100\n",
        "Interceptionsrating on scale of 100\n",
        "Positioningrating on scale of 100\n",
        "Visionrating on scale of 100\n",
        "Penaltiesrating on scale of 100\n",
        "Composurerating on scale of 100\n",
        "Markingrating on scale of 100\n",
        "StandingTacklerating on scale of 100\n",
        "SlidingTacklerating on scale of 100\n",
        "GKDivingrating on scale of 100\n",
        "GKHandlingrating on scale of 100\n",
        "GKKickingrating on scale of 100\n",
        "GKPositioningrating on scale of 100\n",
        "GKReflexesrating on scale of 100\n",
        "Release Clauserelease clause value\n"
      ]
    },
    {
      "cell_type": "code",
      "metadata": {
        "id": "1WY1THKQpsfb",
        "colab_type": "code",
        "colab": {
          "base_uri": "https://localhost:8080/",
          "height": 221
        },
        "outputId": "92d0831f-1b12-45a9-d55d-5cd4303b484a"
      },
      "source": [
        "import pandas as pd\n",
        "import numpy as np\n",
        "import matplotlib.pyplot as plt\n",
        "r=pd.read_csv(\"fifa19.zip\")\n",
        "print(r.dtypes)"
      ],
      "execution_count": 7,
      "outputs": [
        {
          "output_type": "stream",
          "text": [
            "Unnamed: 0          int64\n",
            "ID                  int64\n",
            "Name               object\n",
            "Age                 int64\n",
            "Photo              object\n",
            "                   ...   \n",
            "GKHandling        float64\n",
            "GKKicking         float64\n",
            "GKPositioning     float64\n",
            "GKReflexes        float64\n",
            "Release Clause     object\n",
            "Length: 89, dtype: object\n"
          ],
          "name": "stdout"
        }
      ]
    },
    {
      "cell_type": "code",
      "metadata": {
        "id": "-XqhuF-XrDQr",
        "colab_type": "code",
        "colab": {
          "base_uri": "https://localhost:8080/",
          "height": 295
        },
        "outputId": "ee44e444-ef01-4db1-f861-f559842defca"
      },
      "source": [
        "import pandas as pd\n",
        "import numpy as np\n",
        "import matplotlib.pyplot as plt\n",
        "r=pd.read_csv(\"fifa19.zip\")\n",
        "plt.scatter(r['Potential'],r['Value'],c='black')\n",
        "plt.title('scatter plot of potential vs value')\n",
        "plt.xlabel('potential')\n",
        "plt.ylabel('value')\n",
        "plt.show()"
      ],
      "execution_count": 10,
      "outputs": [
        {
          "output_type": "display_data",
          "data": {
            "image/png": "[encoded data removed]",
            "text/plain": [
              "<Figure size 432x288 with 1 Axes>"
            ]
          },
          "metadata": {
            "tags": []
          }
        }
      ]
    },
    {
      "cell_type": "code",
      "metadata": {
        "id": "YQ-ZeyORxD3W",
        "colab_type": "code",
        "colab": {
          "base_uri": "https://localhost:8080/",
          "height": 295
        },
        "outputId": "373615f0-7965-4a58-d82c-75784eeb8809"
      },
      "source": [
        "import pandas as pd\n",
        "import numpy as np\n",
        "import matplotlib.pyplot as plt\n",
        "r=pd.read_csv(\"fifa19.zip\")\n",
        "plt.scatter(r['Penalties'],r['Marking'],c='black')\n",
        "plt.title('scatter plot of club vs wage')\n",
        "plt.xlabel('club')\n",
        "plt.ylabel('Wage')\n",
        "plt.show()"
      ],
      "execution_count": 52,
      "outputs": [
        {
          "output_type": "display_data",
          "data": {
            "image/png": "[encoded data removed]",
            "text/plain": [
              "<Figure size 432x288 with 1 Axes>"
            ]
          },
          "metadata": {
            "tags": []
          }
        }
      ]
    },
    {
      "cell_type": "code",
      "metadata": {
        "id": "ad_-iXBUyT65",
        "colab_type": "code",
        "colab": {
          "base_uri": "https://localhost:8080/",
          "height": 333
        },
        "outputId": "b6a931ef-1ee6-474f-a782-3b343dda9594"
      },
      "source": [
        "#Who is the player with high potential?\n",
        "import pandas as pd\n",
        "import numpy as np\n",
        "import matplotlib.pyplot as plt\n",
        "r=pd.read_csv(\"fifa19.zip\")\n",
        "print(r.nlargest(1,[\"Potential\"]))\n",
        "plt.hist(r['Potential'])\n",
        "plt.show()"
      ],
      "execution_count": 48,
      "outputs": [
        {
          "output_type": "stream",
          "text": [
            "    Unnamed: 0      ID       Name  ...  GKPositioning GKReflexes Release Clause\n",
            "25          25  231747  K. Mbappé  ...           11.0        6.0        €166.1M\n",
            "\n",
            "[1 rows x 89 columns]\n"
          ],
          "name": "stdout"
        },
        {
          "output_type": "display_data",
          "data": {
            "image/png": "[encoded data removed]",
            "text/plain": [
              "<Figure size 432x288 with 1 Axes>"
            ]
          },
          "metadata": {
            "tags": []
          }
        }
      ]
    },
    {
      "cell_type": "code",
      "metadata": {
        "id": "9K1fAkbv-YBv",
        "colab_type": "code",
        "colab": {
          "base_uri": "https://localhost:8080/",
          "height": 486
        },
        "outputId": "991eeeaa-1603-4a65-afe9-4098974d826d"
      },
      "source": [
        "#10 players with high overall rating?\n",
        "import pandas as pd\n",
        "import numpy as np\n",
        "import matplotlib.pyplot as plt\n",
        "r=pd.read_csv(\"fifa19.zip\")\n",
        "print(r.nlargest(10,[\"Overall\"]))\n",
        "plt.hist(r['Overall'])\n",
        "plt.show()"
      ],
      "execution_count": 51,
      "outputs": [
        {
          "output_type": "stream",
          "text": [
            "   Unnamed: 0      ID  ... GKReflexes  Release Clause\n",
            "0           0  158023  ...        8.0         €226.5M\n",
            "1           1   20801  ...       11.0         €127.1M\n",
            "2           2  190871  ...       11.0         €228.1M\n",
            "3           3  193080  ...       94.0         €138.6M\n",
            "4           4  192985  ...       13.0         €196.4M\n",
            "5           5  183277  ...        8.0         €172.1M\n",
            "6           6  177003  ...        9.0         €137.4M\n",
            "7           7  176580  ...       37.0           €164M\n",
            "8           8  155862  ...       11.0         €104.6M\n",
            "9           9  200389  ...       89.0         €144.5M\n",
            "\n",
            "[10 rows x 89 columns]\n"
          ],
          "name": "stdout"
        },
        {
          "output_type": "display_data",
          "data": {
            "image/png": "[encoded data removed]",
            "text/plain": [
              "<Figure size 432x288 with 1 Axes>"
            ]
          },
          "metadata": {
            "tags": []
          }
        }
      ]
    },
    {
      "cell_type": "code",
      "metadata": {
        "id": "QcpIvGzI_Kll",
        "colab_type": "code",
        "colab": {
          "base_uri": "https://localhost:8080/",
          "height": 469
        },
        "outputId": "4537cad6-42fd-404a-c43e-1a39a5f7c808"
      },
      "source": [
        "#5 players with high shot power?\n",
        "import pandas as pd\n",
        "import numpy as np\n",
        "import matplotlib.pyplot as plt\n",
        "r=pd.read_csv(\"fifa19.zip\")\n",
        "print(r.nlargest(5,[\"ShotPower\"]))\n",
        "plt.hist(r['ShotPower'])\n",
        "plt.show()"
      ],
      "execution_count": 56,
      "outputs": [
        {
          "output_type": "stream",
          "text": [
            "      Unnamed: 0      ID  ... GKReflexes  Release Clause\n",
            "1              1   20801  ...       11.0         €127.1M\n",
            "378          378  189362  ...       12.0          €34.1M\n",
            "1348        1348  169051  ...       13.0          €12.9M\n",
            "36            36  173731  ...        6.0           €123M\n",
            "102          102  171919  ...       14.0          €15.3M\n",
            "\n",
            "[5 rows x 89 columns]\n"
          ],
          "name": "stdout"
        },
        {
          "output_type": "stream",
          "text": [
            "/usr/local/lib/python3.6/dist-packages/numpy/lib/histograms.py:839: RuntimeWarning: invalid value encountered in greater_equal\n",
            "  keep = (tmp_a >= first_edge)\n",
            "/usr/local/lib/python3.6/dist-packages/numpy/lib/histograms.py:840: RuntimeWarning: invalid value encountered in less_equal\n",
            "  keep &= (tmp_a <= last_edge)\n"
          ],
          "name": "stderr"
        },
        {
          "output_type": "display_data",
          "data": {
            "image/png": "[encoded data removed]",
            "text/plain": [
              "<Figure size 432x288 with 1 Axes>"
            ]
          },
          "metadata": {
            "tags": []
          }
        }
      ]
    },
    {
      "cell_type": "code",
      "metadata": {
        "id": "uUt1zjS0BGlh",
        "colab_type": "code",
        "colab": {
          "base_uri": "https://localhost:8080/",
          "height": 333
        },
        "outputId": "18c4cb35-0989-4a2c-aa7d-ddc5b29f665f"
      },
      "source": [
        "#Name of person with high age?\n",
        "import pandas as pd\n",
        "import numpy as np\n",
        "import matplotlib.pyplot as plt\n",
        "r=pd.read_csv(\"fifa19.zip\")\n",
        "print(r.nlargest(1,[\"Age\"]))\n",
        "plt.hist(r['Age'])\n",
        "plt.show()"
      ],
      "execution_count": 58,
      "outputs": [
        {
          "output_type": "stream",
          "text": [
            "      Unnamed: 0      ID      Name  ...  GKPositioning GKReflexes Release Clause\n",
            "4741        4741  140029  O. Pérez  ...           73.0       74.0          €272K\n",
            "\n",
            "[1 rows x 89 columns]\n"
          ],
          "name": "stdout"
        },
        {
          "output_type": "display_data",
          "data": {
            "image/png": "[encoded data removed]",
            "text/plain": [
              "<Figure size 432x288 with 1 Axes>"
            ]
          },
          "metadata": {
            "tags": []
          }
        }
      ]
    },
    {
      "cell_type": "code",
      "metadata": {
        "id": "wzR_hC-4CQj_",
        "colab_type": "code",
        "colab": {
          "base_uri": "https://localhost:8080/",
          "height": 404
        },
        "outputId": "7e55cea6-4e2a-4d61-eee7-ae84e2453280"
      },
      "source": [
        "#Name of person with high strength?\n",
        "import pandas as pd\n",
        "import numpy as np\n",
        "import matplotlib.pyplot as plt\n",
        "r=pd.read_csv(\"fifa19.zip\")\n",
        "print(r.nlargest(1,[\"Strength\"]))\n",
        "plt.hist(r['Strength'])\n",
        "plt.show()"
      ],
      "execution_count": 59,
      "outputs": [
        {
          "output_type": "stream",
          "text": [
            "      Unnamed: 0      ID  ... GKReflexes  Release Clause\n",
            "9501        9501  156321  ...       16.0           €403K\n",
            "\n",
            "[1 rows x 89 columns]\n"
          ],
          "name": "stdout"
        },
        {
          "output_type": "stream",
          "text": [
            "/usr/local/lib/python3.6/dist-packages/numpy/lib/histograms.py:839: RuntimeWarning: invalid value encountered in greater_equal\n",
            "  keep = (tmp_a >= first_edge)\n",
            "/usr/local/lib/python3.6/dist-packages/numpy/lib/histograms.py:840: RuntimeWarning: invalid value encountered in less_equal\n",
            "  keep &= (tmp_a <= last_edge)\n"
          ],
          "name": "stderr"
        },
        {
          "output_type": "display_data",
          "data": {
            "image/png": "[encoded data removed]",
            "text/plain": [
              "<Figure size 432x288 with 1 Axes>"
            ]
          },
          "metadata": {
            "tags": []
          }
        }
      ]
    },
    {
      "cell_type": "code",
      "metadata": {
        "id": "92wKbldaGyjJ",
        "colab_type": "code",
        "colab": {
          "base_uri": "https://localhost:8080/",
          "height": 221
        },
        "outputId": "efac1753-0242-4d00-d784-940353d40bac"
      },
      "source": [
        "#Mean of players age?\n",
        "import pandas as pd\n",
        "import numpy as np\n",
        "import matplotlib.pyplot as plt\n",
        "r=pd.read_csv(\"fifa19.zip\")\n",
        "print(r.mean(1,\"Age\"))\n"
      ],
      "execution_count": 62,
      "outputs": [
        {
          "output_type": "stream",
          "text": [
            "0        3699.204545\n",
            "1         581.704545\n",
            "2        4442.931818\n",
            "3        4461.659091\n",
            "4        4497.022727\n",
            "            ...     \n",
            "18202    5905.272727\n",
            "18203    5994.568182\n",
            "18204    5964.318182\n",
            "18205    6071.477273\n",
            "18206    6076.000000\n",
            "Length: 18207, dtype: float64\n"
          ],
          "name": "stdout"
        }
      ]
    },
    {
      "cell_type": "code",
      "metadata": {
        "id": "9jh4NGusLBGn",
        "colab_type": "code",
        "colab": {
          "base_uri": "https://localhost:8080/",
          "height": 221
        },
        "outputId": "431e8d42-f049-4866-e479-40194e53f2a1"
      },
      "source": [
        "#Median of strenght of players?\n",
        "import pandas as pd\n",
        "import numpy as np\n",
        "import matplotlib.pyplot as plt\n",
        "r=pd.read_csv(\"fifa19.zip\")\n",
        "print(r.median(1,\"Strength\"))\n"
      ],
      "execution_count": 64,
      "outputs": [
        {
          "output_type": "stream",
          "text": [
            "0        84.5\n",
            "1        81.5\n",
            "2        80.5\n",
            "3        41.0\n",
            "4        78.5\n",
            "         ... \n",
            "18202    43.0\n",
            "18203    39.0\n",
            "18204    39.0\n",
            "18205    40.0\n",
            "18206    43.0\n",
            "Length: 18207, dtype: float64\n"
          ],
          "name": "stdout"
        }
      ]
    },
    {
      "cell_type": "code",
      "metadata": {
        "id": "JnGLWASMLVW-",
        "colab_type": "code",
        "colab": {
          "base_uri": "https://localhost:8080/",
          "height": 255
        },
        "outputId": "fd84bf9d-4192-4dc1-fb9b-9d9b444db410"
      },
      "source": [
        "#Mode of players strenght value?\n",
        "import pandas as pd\n",
        "import numpy as np\n",
        "import matplotlib.pyplot as plt\n",
        "r=pd.read_csv(\"fifa19.zip\")\n",
        "print(r.mode(1,\"Potential\"))\n"
      ],
      "execution_count": 65,
      "outputs": [
        {
          "output_type": "stream",
          "text": [
            "          0     1     2     3   4   5   6   7   8   9  10  11  12  13\n",
            "0      94.0   NaN   NaN   NaN NaN NaN NaN NaN NaN NaN NaN NaN NaN NaN\n",
            "1      94.0  95.0   NaN   NaN NaN NaN NaN NaN NaN NaN NaN NaN NaN NaN\n",
            "2       5.0  84.0  87.0  94.0 NaN NaN NaN NaN NaN NaN NaN NaN NaN NaN\n",
            "3      13.0  21.0   NaN   NaN NaN NaN NaN NaN NaN NaN NaN NaN NaN NaN\n",
            "4      91.0   NaN   NaN   NaN NaN NaN NaN NaN NaN NaN NaN NaN NaN NaN\n",
            "...     ...   ...   ...   ...  ..  ..  ..  ..  ..  ..  ..  ..  ..  ..\n",
            "18202  40.0  43.0  47.0   NaN NaN NaN NaN NaN NaN NaN NaN NaN NaN NaN\n",
            "18203  43.0  47.0  52.0   NaN NaN NaN NaN NaN NaN NaN NaN NaN NaN NaN\n",
            "18204  32.0  38.0  45.0   NaN NaN NaN NaN NaN NaN NaN NaN NaN NaN NaN\n",
            "18205  34.0   NaN   NaN   NaN NaN NaN NaN NaN NaN NaN NaN NaN NaN NaN\n",
            "18206  43.0   NaN   NaN   NaN NaN NaN NaN NaN NaN NaN NaN NaN NaN NaN\n",
            "\n",
            "[18207 rows x 14 columns]\n"
          ],
          "name": "stdout"
        }
      ]
    },
    {
      "cell_type": "code",
      "metadata": {
        "id": "vcdbRbwqLhqe",
        "colab_type": "code",
        "colab": {}
      },
      "source": [
        ""
      ],
      "execution_count": 0,
      "outputs": []
    },
    {
      "cell_type": "markdown",
      "metadata": {
        "id": "Y0EWk9_pLl0B",
        "colab_type": "text"
      },
      "source": [
        "\n",
        "      Name                  Roll.No.\n",
        "*   D.rohit kumar           19pa1a0434\n",
        "*   B.Sri charan            19pa1a0421\n",
        "*   G.Joshua                19pa1a0448\n",
        "*   D.Varun                 19pa1a0433\n",
        "\n",
        "\n",
        "\n",
        "\n",
        "\n",
        "\n"
      ]
    }
  ]
}